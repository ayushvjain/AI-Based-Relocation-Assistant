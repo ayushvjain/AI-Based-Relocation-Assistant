{
 "cells": [
  {
   "cell_type": "code",
   "execution_count": 5,
   "metadata": {},
   "outputs": [
    {
     "name": "stdout",
     "output_type": "stream",
     "text": [
      "['Animation', 'Sci-Fi', 'Drama', 'Romance', 'Adventure', 'Thriller', 'Action']\n",
      "[[0 1 0 0 0 0 1]\n",
      " [0 1 0 0 1 0 1]\n",
      " [0 0 1 1 0 0 0]\n",
      " [0 1 0 0 0 1 1]\n",
      " [1 0 1 0 1 0 0]]\n",
      "Recommended Movies for the User:\n",
      "Movie: The Avengers, Similarity Score: 0.8165\n",
      "Movie: Inception, Similarity Score: 0.8165\n",
      "Movie: Titanic, Similarity Score: 0.0000\n",
      "Movie: The Lion King, Similarity Score: 0.0000\n"
     ]
    }
   ],
   "source": [
    "import pandas as pd\n",
    "from sklearn.metrics.pairwise import cosine_similarity\n",
    "\n",
    "# Example dataset of movies with genres\n",
    "movies_data = pd.DataFrame({\n",
    "    'movie_id': [1, 2, 3, 4, 5],\n",
    "    'movie_title': ['The Matrix', 'The Avengers', 'Titanic', 'Inception', 'The Lion King'],\n",
    "    'genres': ['Action|Sci-Fi', 'Action|Adventure|Sci-Fi', 'Drama|Romance', 'Action|Sci-Fi|Thriller', 'Animation|Adventure|Drama']\n",
    "})\n",
    "\n",
    "# Convert genres into a binary vector (One-Hot Encoding)\n",
    "genres_all = set('|'.join(movies_data['genres']).split('|'))\n",
    "genres_all = list(genres_all)\n",
    "print(genres_all)\n",
    "\n",
    "# Create a function to convert genres into a binary vector\n",
    "def genre_vector(genres, all_genres):\n",
    "    genre_vector = [1 if genre in genres.split('|') else 0 for genre in all_genres]\n",
    "    return genre_vector\n",
    "\n",
    "# Apply genre vector to the movies\n",
    "movies_data['genre_vector'] = movies_data['genres'].apply(lambda x: genre_vector(x, genres_all))\n",
    "\n",
    "# Let's say the user has liked the following movies: \"The Matrix\" and \"Inception\"\n",
    "user_liked_movies = ['The Matrix']\n",
    "\n",
    "# Get the genre vectors for the movies the user liked\n",
    "user_liked_genres = movies_data[movies_data['movie_title'].isin(user_liked_movies)]['genre_vector'].tolist()\n",
    "\n",
    "# Create the user profile as the average of the genre vectors of the liked movies\n",
    "import numpy as np\n",
    "user_profile = np.mean(user_liked_genres, axis=0)\n",
    "\n",
    "# Calculate cosine similarity between the user profile and all movie genre vectors\n",
    "movie_vectors = np.array(movies_data['genre_vector'].tolist())\n",
    "print(movie_vectors)\n",
    "cosine_similarities = cosine_similarity([user_profile], movie_vectors)\n",
    "\n",
    "# Add the similarity scores to the movies dataframe\n",
    "movies_data['similarity'] = cosine_similarities.flatten()\n",
    "\n",
    "# Sort the movies based on similarity to the user profile (higher similarity = better match)\n",
    "recommended_movies = movies_data.sort_values(by='similarity', ascending=False)\n",
    "\n",
    "# Recommend movies to the user (excluding the ones they have already watched/liked)\n",
    "recommended_movies = recommended_movies[~recommended_movies['movie_title'].isin(user_liked_movies)]\n",
    "\n",
    "# Print the recommended movies\n",
    "print(\"Recommended Movies for the User:\")\n",
    "for index, row in recommended_movies.iterrows():\n",
    "    print(f\"Movie: {row['movie_title']}, Similarity Score: {row['similarity']:.4f}\")\n"
   ]
  },
  {
   "cell_type": "code",
   "execution_count": 76,
   "metadata": {},
   "outputs": [
    {
     "name": "stdout",
     "output_type": "stream",
     "text": [
      "Recommended Apartments for the User:\n",
      "Address  : 165 Hemenway Unit 5, Similarity Score: 1.0000\n",
      "2950 0.17045454545454544 2.0 1.0 1.86 0.2866\n",
      "Address  : 315 Huntington Unit 2B, Similarity Score: 0.9999\n",
      "3100 0.20454545454545456 2.0 1.0 1.86 0.2866\n",
      "Address  : 238 Hemenway Unit b5, Similarity Score: 0.9998\n",
      "3195 0.22613636363636364 2.0 1.0 1.86 0.2866\n"
     ]
    }
   ],
   "source": [
    "# Grab Apartment Data\n",
    "apartmentData = pd.read_csv('boston_apartment_listings.csv')\n",
    "# print(apartmentData.head())\n",
    "\n",
    "apartmentRent = apartmentData['Rent']\n",
    "minRent = min(apartmentRent)\n",
    "maxRent = max(apartmentRent)\n",
    "apartmentRent = (apartmentData['Rent'] - minRent) / (maxRent - minRent)\n",
    "\n",
    "# FIX LATER\n",
    "apartmentOverallCrime = [0 if np.isnan(val) else val for val in apartmentData['Overall CrimeRate']]\n",
    "apartmentViolentCrime = [0 if np.isnan(val) else val for val in apartmentData['Violent CrimeRate']]\n",
    "\n",
    "apartmentFeatures = list(zip(apartmentRent, apartmentData['Bed'], apartmentData['Bath'], apartmentOverallCrime, apartmentViolentCrime))\n",
    "\n",
    "apartmentVectors = np.array(apartmentFeatures)\n",
    "\n",
    "input = np.array([[(2950 - minRent) / (maxRent - minRent), 2.0, 1.0, 1.86, 0.2866]])\n",
    "cosineSimilarity = cosine_similarity(input, apartmentVectors)\n",
    "apartmentData['similarity'] = cosineSimilarity.flatten()\n",
    "\n",
    "recommend = apartmentData.sort_values(by='similarity', ascending=False)\n",
    "\n",
    "print(\"Recommended Apartments for the User:\")\n",
    "i = 0\n",
    "for index, row in recommend.iterrows():\n",
    "    print(f\"Address  : {row['Address']}, Similarity Score: {row['similarity']:.4f}\")\n",
    "    print(row['Rent'], (row['Rent'] - minRent) / (maxRent - minRent), row['Bed'], row['Bath'], row['Overall CrimeRate'], row['Violent CrimeRate'])\n",
    "    i += 1\n",
    "\n",
    "    if i == 3:\n",
    "        break"
   ]
  },
  {
   "cell_type": "code",
   "execution_count": null,
   "metadata": {},
   "outputs": [],
   "source": []
  }
 ],
 "metadata": {
  "kernelspec": {
   "display_name": "base",
   "language": "python",
   "name": "python3"
  },
  "language_info": {
   "codemirror_mode": {
    "name": "ipython",
    "version": 3
   },
   "file_extension": ".py",
   "mimetype": "text/x-python",
   "name": "python",
   "nbconvert_exporter": "python",
   "pygments_lexer": "ipython3",
   "version": "3.11.5"
  }
 },
 "nbformat": 4,
 "nbformat_minor": 2
}
